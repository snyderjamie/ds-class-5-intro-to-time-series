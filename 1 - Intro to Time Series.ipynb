{
 "cells": [
  {
   "cell_type": "markdown",
   "metadata": {},
   "source": [
    "# Intro to Time Series\n",
    "\n",
    "[Time Series](https://en.wikipedia.org/wiki/Time_series) represents data indexed by dates, points in time, time periods, etc. The simplest example that comes to mind is stock prices: the price of a stock per day over a period of time.\n",
    "\n",
    "But Time Series have applications in many other fields, specially in experimental sciences: physics, biology, medicine, etc."
   ]
  },
  {
   "cell_type": "code",
   "execution_count": 1,
   "metadata": {},
   "outputs": [],
   "source": [
    "import pandas as pd\n",
    "import numpy as np\n",
    "import matplotlib.pyplot as plt\n",
    "from datetime import datetime\n",
    "\n",
    "%matplotlib inline"
   ]
  },
  {
   "cell_type": "markdown",
   "metadata": {},
   "source": [
    "A simple Time Series in Pandas can be represented as a regular `Series` object:"
   ]
  },
  {
   "cell_type": "code",
   "execution_count": 2,
   "metadata": {},
   "outputs": [],
   "source": [
    "timestamps = [\n",
    "    datetime(2018, 1, 1), datetime(2018, 1, 2), datetime(2018, 1, 3),\n",
    "    datetime(2018, 1, 4), datetime(2018, 1, 5), datetime(2018, 1, 6),\n",
    "    datetime(2018, 1, 7), datetime(2018, 1, 8), datetime(2018, 1, 9),\n",
    "]"
   ]
  },
  {
   "cell_type": "code",
   "execution_count": 4,
   "metadata": {},
   "outputs": [],
   "source": [
    "ts = pd.Series(np.random.randn(9) * 10 + 500, index=timestamps)"
   ]
  },
  {
   "cell_type": "code",
   "execution_count": 5,
   "metadata": {},
   "outputs": [
    {
     "data": {
      "text/plain": [
       "2018-01-01    497.657319\n",
       "2018-01-02    502.695583\n",
       "2018-01-03    486.609886\n",
       "2018-01-04    502.484000\n",
       "2018-01-05    506.105941\n",
       "2018-01-06    496.291192\n",
       "2018-01-07    501.124276\n",
       "2018-01-08    509.870865\n",
       "2018-01-09    506.381332\n",
       "dtype: float64"
      ]
     },
     "execution_count": 5,
     "metadata": {},
     "output_type": "execute_result"
    }
   ],
   "source": [
    "ts"
   ]
  },
  {
   "cell_type": "code",
   "execution_count": 6,
   "metadata": {},
   "outputs": [
    {
     "data": {
      "text/plain": [
       "<matplotlib.axes._subplots.AxesSubplot at 0x7f0224044278>"
      ]
     },
     "execution_count": 6,
     "metadata": {},
     "output_type": "execute_result"
    },
    {
     "data": {
      "image/png": "[encoded data removed]",
      "text/plain": [
       "<Figure size 864x432 with 1 Axes>"
      ]
     },
     "metadata": {
      "needs_background": "light"
     },
     "output_type": "display_data"
    }
   ],
   "source": [
    "ts.plot(figsize=(12, 6))"
   ]
  },
  {
   "cell_type": "markdown",
   "metadata": {},
   "source": [
    "The `Index` of a Time Series will be a `DatetimeIndex` (or similar, like ` TimedeltaIndex` or `PeriodIndex`):"
   ]
  },
  {
   "cell_type": "code",
   "execution_count": 7,
   "metadata": {
    "scrolled": false
   },
   "outputs": [
    {
     "data": {
      "text/plain": [
       "DatetimeIndex(['2018-01-01', '2018-01-02', '2018-01-03', '2018-01-04',\n",
       "               '2018-01-05', '2018-01-06', '2018-01-07', '2018-01-08',\n",
       "               '2018-01-09'],\n",
       "              dtype='datetime64[ns]', freq=None)"
      ]
     },
     "execution_count": 7,
     "metadata": {},
     "output_type": "execute_result"
    }
   ],
   "source": [
    "ts.index"
   ]
  },
  {
   "cell_type": "markdown",
   "metadata": {},
   "source": [
    "Underneath, Pandas uses `numpy` datetime types:"
   ]
  },
  {
   "cell_type": "code",
   "execution_count": 8,
   "metadata": {},
   "outputs": [
    {
     "data": {
      "text/plain": [
       "dtype('<M8[ns]')"
      ]
     },
     "execution_count": 8,
     "metadata": {},
     "output_type": "execute_result"
    }
   ],
   "source": [
    "ts.index.dtype"
   ]
  },
  {
   "cell_type": "markdown",
   "metadata": {},
   "source": [
    "### `pd.Timestamp`\n",
    "\n",
    "We created our series's index with `datetime` objects. `datetime` is the Python builtin data type to represent dates and times. Pandas has another type `pd.Timestamp` that's a little bit more powerful:"
   ]
  },
  {
   "cell_type": "code",
   "execution_count": 10,
   "metadata": {},
   "outputs": [
    {
     "data": {
      "text/plain": [
       "Timestamp('2018-01-01 00:00:00')"
      ]
     },
     "execution_count": 10,
     "metadata": {},
     "output_type": "execute_result"
    }
   ],
   "source": [
    "pd.Timestamp(2018, 1, 1)"
   ]
  },
  {
   "cell_type": "code",
   "execution_count": 11,
   "metadata": {},
   "outputs": [
    {
     "data": {
      "text/plain": [
       "Timestamp('2018-01-01 00:00:00')"
      ]
     },
     "execution_count": 11,
     "metadata": {},
     "output_type": "execute_result"
    }
   ],
   "source": [
    "pd.Timestamp(datetime(2018, 1, 1))"
   ]
  },
  {
   "cell_type": "code",
   "execution_count": 12,
   "metadata": {},
   "outputs": [
    {
     "data": {
      "text/plain": [
       "Timestamp('2018-01-01 00:00:00')"
      ]
     },
     "execution_count": 12,
     "metadata": {},
     "output_type": "execute_result"
    }
   ],
   "source": [
    "pd.Timestamp('2018-01-01')"
   ]
  },
  {
   "cell_type": "markdown",
   "metadata": {},
   "source": [
    "Each index element in our Series, is a `pd.Timestamp` object:"
   ]
  },
  {
   "cell_type": "code",
   "execution_count": 13,
   "metadata": {
    "scrolled": true
   },
   "outputs": [
    {
     "data": {
      "text/plain": [
       "Timestamp('2018-01-01 00:00:00')"
      ]
     },
     "execution_count": 13,
     "metadata": {},
     "output_type": "execute_result"
    }
   ],
   "source": [
    "ts.index[0]"
   ]
  },
  {
   "cell_type": "markdown",
   "metadata": {},
   "source": [
    "`Timestamp`s can be constructed in different ways (we'll see them throughout this lesson), but a few examples include:"
   ]
  },
  {
   "cell_type": "code",
   "execution_count": 14,
   "metadata": {},
   "outputs": [
    {
     "data": {
      "text/plain": [
       "Timestamp('2018-01-01 00:00:00')"
      ]
     },
     "execution_count": 14,
     "metadata": {},
     "output_type": "execute_result"
    }
   ],
   "source": [
    "pd.Timestamp('Jan 1 2018')"
   ]
  },
  {
   "cell_type": "code",
   "execution_count": 15,
   "metadata": {},
   "outputs": [
    {
     "data": {
      "text/plain": [
       "Timestamp('2018-01-01 00:00:00')"
      ]
     },
     "execution_count": 15,
     "metadata": {},
     "output_type": "execute_result"
    }
   ],
   "source": [
    "pd.Timestamp('January 1st 2018')"
   ]
  },
  {
   "cell_type": "code",
   "execution_count": 16,
   "metadata": {},
   "outputs": [
    {
     "data": {
      "text/plain": [
       "Timestamp('2018-01-01 00:00:00')"
      ]
     },
     "execution_count": 16,
     "metadata": {},
     "output_type": "execute_result"
    }
   ],
   "source": [
    "pd.Timestamp('1st of January 2018')"
   ]
  },
  {
   "cell_type": "code",
   "execution_count": 17,
   "metadata": {},
   "outputs": [
    {
     "data": {
      "text/plain": [
       "Timestamp('2018-01-01 00:00:00')"
      ]
     },
     "execution_count": 17,
     "metadata": {},
     "output_type": "execute_result"
    }
   ],
   "source": [
    "pd.Timestamp('2018-01')"
   ]
  },
  {
   "cell_type": "code",
   "execution_count": 18,
   "metadata": {},
   "outputs": [
    {
     "data": {
      "text/plain": [
       "Timestamp('2018-01-01 00:00:00')"
      ]
     },
     "execution_count": 18,
     "metadata": {},
     "output_type": "execute_result"
    }
   ],
   "source": [
    "pd.Timestamp('1/2018')"
   ]
  },
  {
   "cell_type": "code",
   "execution_count": 19,
   "metadata": {},
   "outputs": [
    {
     "data": {
      "text/plain": [
       "Timestamp('2018-01-01 00:00:00')"
      ]
     },
     "execution_count": 19,
     "metadata": {},
     "output_type": "execute_result"
    }
   ],
   "source": [
    "pd.Timestamp(datetime(2018, 1, 1))"
   ]
  },
  {
   "cell_type": "markdown",
   "metadata": {},
   "source": [
    "**Warning:** Be aware of ambiguity with \"American\" and \"European\" calendar style. pandas will favor the **\"American\"** style. Example:"
   ]
  },
  {
   "cell_type": "code",
   "execution_count": 20,
   "metadata": {
    "scrolled": true
   },
   "outputs": [
    {
     "data": {
      "text/plain": [
       "Timestamp('2018-01-07 00:00:00')"
      ]
     },
     "execution_count": 20,
     "metadata": {},
     "output_type": "execute_result"
    }
   ],
   "source": [
    "pd.Timestamp('1/7/2018')"
   ]
  },
  {
   "cell_type": "markdown",
   "metadata": {},
   "source": [
    "### Indexing Time Series\n",
    "\n",
    "Time Series are regular pandas Series (or DataFrames), indexing works in the same way as with regular objects:"
   ]
  },
  {
   "cell_type": "code",
   "execution_count": 21,
   "metadata": {},
   "outputs": [
    {
     "data": {
      "text/plain": [
       "2018-01-01    497.657319\n",
       "2018-01-02    502.695583\n",
       "2018-01-03    486.609886\n",
       "2018-01-04    502.484000\n",
       "2018-01-05    506.105941\n",
       "2018-01-06    496.291192\n",
       "2018-01-07    501.124276\n",
       "2018-01-08    509.870865\n",
       "2018-01-09    506.381332\n",
       "dtype: float64"
      ]
     },
     "execution_count": 21,
     "metadata": {},
     "output_type": "execute_result"
    }
   ],
   "source": [
    "ts"
   ]
  },
  {
   "cell_type": "code",
   "execution_count": 22,
   "metadata": {},
   "outputs": [
    {
     "data": {
      "text/plain": [
       "486.60988649025865"
      ]
     },
     "execution_count": 22,
     "metadata": {},
     "output_type": "execute_result"
    }
   ],
   "source": [
    "ts[datetime(2018, 1, 3)]"
   ]
  },
  {
   "cell_type": "code",
   "execution_count": 23,
   "metadata": {},
   "outputs": [
    {
     "data": {
      "text/plain": [
       "486.60988649025865"
      ]
     },
     "execution_count": 23,
     "metadata": {},
     "output_type": "execute_result"
    }
   ],
   "source": [
    "ts[pd.Timestamp(2018, 1, 3)]"
   ]
  },
  {
   "cell_type": "markdown",
   "metadata": {},
   "source": [
    "It's really convenient to use Strings to refer to datetimes:"
   ]
  },
  {
   "cell_type": "code",
   "execution_count": 24,
   "metadata": {},
   "outputs": [
    {
     "data": {
      "text/plain": [
       "486.60988649025865"
      ]
     },
     "execution_count": 24,
     "metadata": {},
     "output_type": "execute_result"
    }
   ],
   "source": [
    "ts['2018-01-03']"
   ]
  },
  {
   "cell_type": "markdown",
   "metadata": {},
   "source": [
    "Time Series are usually ordered, which makes range selection (slicing) a lot easier:"
   ]
  },
  {
   "cell_type": "code",
   "execution_count": 25,
   "metadata": {},
   "outputs": [
    {
     "data": {
      "text/plain": [
       "2018-01-03    486.609886\n",
       "2018-01-04    502.484000\n",
       "2018-01-05    506.105941\n",
       "2018-01-06    496.291192\n",
       "dtype: float64"
      ]
     },
     "execution_count": 25,
     "metadata": {},
     "output_type": "execute_result"
    }
   ],
   "source": [
    "ts['2018-01-03': '2018-01-06']"
   ]
  },
  {
   "cell_type": "markdown",
   "metadata": {},
   "source": [
    "Even if the actual points don't exist:"
   ]
  },
  {
   "cell_type": "code",
   "execution_count": 26,
   "metadata": {},
   "outputs": [
    {
     "data": {
      "text/plain": [
       "2018-01-01    497.657319\n",
       "2018-01-02    502.695583\n",
       "2018-01-03    486.609886\n",
       "2018-01-04    502.484000\n",
       "2018-01-05    506.105941\n",
       "2018-01-06    496.291192\n",
       "2018-01-07    501.124276\n",
       "2018-01-08    509.870865\n",
       "2018-01-09    506.381332\n",
       "dtype: float64"
      ]
     },
     "execution_count": 26,
     "metadata": {},
     "output_type": "execute_result"
    }
   ],
   "source": [
    "ts"
   ]
  },
  {
   "cell_type": "code",
   "execution_count": 27,
   "metadata": {},
   "outputs": [
    {
     "data": {
      "text/plain": [
       "2018-01-04    502.484000\n",
       "2018-01-05    506.105941\n",
       "2018-01-06    496.291192\n",
       "dtype: float64"
      ]
     },
     "execution_count": 27,
     "metadata": {},
     "output_type": "execute_result"
    }
   ],
   "source": [
    "ts['2018-01-03T18:00:00': '2018-01-06T21:30:00'] # starting jan 18 after 6 pm"
   ]
  },
  {
   "cell_type": "markdown",
   "metadata": {},
   "source": [
    "The precision of your index might change. You might be indexing by dates, dates and times, periods, years, months, etc. Pandas tries to interpret your indexes based on the precision:"
   ]
  },
  {
   "cell_type": "code",
   "execution_count": 28,
   "metadata": {},
   "outputs": [],
   "source": [
    "timestamps = [\n",
    "    datetime(2018, 1, 1), datetime(2018, 1, 2), datetime(2018, 1, 3),\n",
    "    datetime(2018, 2, 1), datetime(2018, 2, 2), datetime(2018, 2, 3),\n",
    "    datetime(2019, 1, 1), datetime(2019, 1, 2), datetime(2019, 1, 3),\n",
    "]"
   ]
  },
  {
   "cell_type": "code",
   "execution_count": 29,
   "metadata": {},
   "outputs": [],
   "source": [
    "ts = pd.Series(np.random.randn(9) * 10 + 500, index=timestamps)"
   ]
  },
  {
   "cell_type": "code",
   "execution_count": 30,
   "metadata": {},
   "outputs": [
    {
     "data": {
      "text/plain": [
       "2018-01-01    497.333469\n",
       "2018-01-02    498.252636\n",
       "2018-01-03    503.737499\n",
       "2018-02-01    485.003212\n",
       "2018-02-02    498.829321\n",
       "2018-02-03    491.345021\n",
       "2019-01-01    503.881438\n",
       "2019-01-02    510.112929\n",
       "2019-01-03    503.299799\n",
       "dtype: float64"
      ]
     },
     "execution_count": 30,
     "metadata": {},
     "output_type": "execute_result"
    }
   ],
   "source": [
    "ts"
   ]
  },
  {
   "cell_type": "code",
   "execution_count": 31,
   "metadata": {
    "scrolled": true
   },
   "outputs": [
    {
     "data": {
      "text/plain": [
       "2018-01-01    497.333469\n",
       "2018-01-02    498.252636\n",
       "2018-01-03    503.737499\n",
       "2018-02-01    485.003212\n",
       "2018-02-02    498.829321\n",
       "2018-02-03    491.345021\n",
       "dtype: float64"
      ]
     },
     "execution_count": 31,
     "metadata": {},
     "output_type": "execute_result"
    }
   ],
   "source": [
    "ts['2018'] # this is a range like opperation"
   ]
  },
  {
   "cell_type": "code",
   "execution_count": 32,
   "metadata": {
    "scrolled": true
   },
   "outputs": [
    {
     "data": {
      "text/plain": [
       "2019-01-01    503.881438\n",
       "2019-01-02    510.112929\n",
       "2019-01-03    503.299799\n",
       "dtype: float64"
      ]
     },
     "execution_count": 32,
     "metadata": {},
     "output_type": "execute_result"
    }
   ],
   "source": [
    "ts['2019']"
   ]
  },
  {
   "cell_type": "code",
   "execution_count": 33,
   "metadata": {
    "scrolled": true
   },
   "outputs": [
    {
     "data": {
      "text/plain": [
       "2018-01-01    497.333469\n",
       "2018-01-02    498.252636\n",
       "2018-01-03    503.737499\n",
       "dtype: float64"
      ]
     },
     "execution_count": 33,
     "metadata": {},
     "output_type": "execute_result"
    }
   ],
   "source": [
    "ts['2018-01'] # range as well, for a jan 2018"
   ]
  },
  {
   "cell_type": "markdown",
   "metadata": {},
   "source": [
    "### Creating DateTimeIndexes\n",
    "\n",
    "Suppose you have a list (series, array) of sales, that you know they correspond with a given period of time. For example, you have 10 sales, which you know correspond to the days January 1st 2018, January 2nd 2018, etc. How can you construct the DateTime index? A naive approach would use an iteration to fill a list, or an array with values. But pandas has a really convenient function called `pd.date_range` that can help you generate these indexes in a smart way:"
   ]
  },
  {
   "cell_type": "code",
   "execution_count": 35,
   "metadata": {},
   "outputs": [
    {
     "data": {
      "text/plain": [
       "array([513.46936648, 493.53855642, 503.30429148, 501.58437957,\n",
       "       501.59241948, 495.18872307, 488.83500718, 494.49347363,\n",
       "       510.82329116, 507.5007986 ])"
      ]
     },
     "execution_count": 35,
     "metadata": {},
     "output_type": "execute_result"
    }
   ],
   "source": [
    "sales = np.random.randn(10) * 10 + 500\n",
    "sales"
   ]
  },
  {
   "cell_type": "markdown",
   "metadata": {},
   "source": [
    "In this case, the start date is `2018-01-01` and the \"frequency\" is \"daily\":"
   ]
  },
  {
   "cell_type": "code",
   "execution_count": 36,
   "metadata": {},
   "outputs": [
    {
     "data": {
      "text/plain": [
       "DatetimeIndex(['2018-01-01', '2018-01-02', '2018-01-03', '2018-01-04',\n",
       "               '2018-01-05', '2018-01-06', '2018-01-07', '2018-01-08',\n",
       "               '2018-01-09', '2018-01-10'],\n",
       "              dtype='datetime64[ns]', freq='D')"
      ]
     },
     "execution_count": 36,
     "metadata": {},
     "output_type": "execute_result"
    }
   ],
   "source": [
    "# start, number of points, and what is the frequency\n",
    "index = pd.date_range(start='2018-01-01', periods=len(sales), freq='D') # this is for daily data\n",
    "index"
   ]
  },
  {
   "cell_type": "code",
   "execution_count": 37,
   "metadata": {},
   "outputs": [
    {
     "data": {
      "text/plain": [
       "DatetimeIndex(['2018-01-01 00:00:00', '2018-01-01 00:01:00',\n",
       "               '2018-01-01 00:02:00', '2018-01-01 00:03:00',\n",
       "               '2018-01-01 00:04:00', '2018-01-01 00:05:00',\n",
       "               '2018-01-01 00:06:00', '2018-01-01 00:07:00',\n",
       "               '2018-01-01 00:08:00', '2018-01-01 00:09:00',\n",
       "               ...\n",
       "               '2018-01-02 23:51:00', '2018-01-02 23:52:00',\n",
       "               '2018-01-02 23:53:00', '2018-01-02 23:54:00',\n",
       "               '2018-01-02 23:55:00', '2018-01-02 23:56:00',\n",
       "               '2018-01-02 23:57:00', '2018-01-02 23:58:00',\n",
       "               '2018-01-02 23:59:00', '2018-01-03 00:00:00'],\n",
       "              dtype='datetime64[ns]', length=2881, freq='T')"
      ]
     },
     "execution_count": 37,
     "metadata": {},
     "output_type": "execute_result"
    }
   ],
   "source": [
    "#start and end, what is the frequence\n",
    "pd.date_range('2018-01-01', '2018-01-03', freq='T') # minute data"
   ]
  },
  {
   "cell_type": "code",
   "execution_count": 38,
   "metadata": {},
   "outputs": [
    {
     "data": {
      "text/plain": [
       "2018-01-01    513.469366\n",
       "2018-01-02    493.538556\n",
       "2018-01-03    503.304291\n",
       "2018-01-04    501.584380\n",
       "2018-01-05    501.592419\n",
       "2018-01-06    495.188723\n",
       "2018-01-07    488.835007\n",
       "2018-01-08    494.493474\n",
       "2018-01-09    510.823291\n",
       "2018-01-10    507.500799\n",
       "Freq: D, dtype: float64"
      ]
     },
     "execution_count": 38,
     "metadata": {},
     "output_type": "execute_result"
    }
   ],
   "source": [
    "pd.Series(sales, index=index)"
   ]
  },
  {
   "cell_type": "markdown",
   "metadata": {},
   "source": [
    "`freq` is a really common and useful parameter when dealing with TimeSeries in pandas. Many datetime related functions accept the freq parameter. `freq` can go from nanoseconds to years, it's really versatile:\n",
    "\n",
    "\n",
    "<img src=\"https://user-images.githubusercontent.com/872296/38993075-f6d81e2c-43b8-11e8-9f75-9faa8fe3b5ce.png\" width=600></img>"
   ]
  },
  {
   "cell_type": "code",
   "execution_count": null,
   "metadata": {},
   "outputs": [],
   "source": [
    "# there is a custom business day frequency. C"
   ]
  },
  {
   "cell_type": "markdown",
   "metadata": {},
   "source": [
    "Example, we can change the frequency to be \"every minute\":"
   ]
  },
  {
   "cell_type": "code",
   "execution_count": 36,
   "metadata": {},
   "outputs": [
    {
     "data": {
      "text/plain": [
       "2018-01-01 00:00:00    488.545463\n",
       "2018-01-01 00:01:00    498.005017\n",
       "2018-01-01 00:02:00    489.193658\n",
       "2018-01-01 00:03:00    511.920114\n",
       "2018-01-01 00:04:00    499.665299\n",
       "2018-01-01 00:05:00    494.315887\n",
       "2018-01-01 00:06:00    494.652391\n",
       "2018-01-01 00:07:00    516.200983\n",
       "2018-01-01 00:08:00    496.714254\n",
       "2018-01-01 00:09:00    514.099302\n",
       "Freq: T, dtype: float64"
      ]
     },
     "execution_count": 36,
     "metadata": {},
     "output_type": "execute_result"
    }
   ],
   "source": [
    "pd.Series(sales, index=pd.date_range(start='2018-01-01', periods=len(sales), freq='T'))"
   ]
  },
  {
   "cell_type": "markdown",
   "metadata": {},
   "source": [
    "Or \"every 5 minutes\":"
   ]
  },
  {
   "cell_type": "code",
   "execution_count": 37,
   "metadata": {
    "scrolled": true
   },
   "outputs": [
    {
     "data": {
      "text/plain": [
       "2018-01-01 00:00:00    488.545463\n",
       "2018-01-01 00:05:00    498.005017\n",
       "2018-01-01 00:10:00    489.193658\n",
       "2018-01-01 00:15:00    511.920114\n",
       "2018-01-01 00:20:00    499.665299\n",
       "2018-01-01 00:25:00    494.315887\n",
       "2018-01-01 00:30:00    494.652391\n",
       "2018-01-01 00:35:00    516.200983\n",
       "2018-01-01 00:40:00    496.714254\n",
       "2018-01-01 00:45:00    514.099302\n",
       "Freq: 5T, dtype: float64"
      ]
     },
     "execution_count": 37,
     "metadata": {},
     "output_type": "execute_result"
    }
   ],
   "source": [
    "pd.Series(sales, index=pd.date_range(start='2018-01-01', periods=len(sales), freq='5T'))"
   ]
  },
  {
   "cell_type": "markdown",
   "metadata": {},
   "source": [
    "`pd.date_range` is very flexible (as pandas in general), so you can do things like:"
   ]
  },
  {
   "cell_type": "code",
   "execution_count": 38,
   "metadata": {},
   "outputs": [
    {
     "data": {
      "text/plain": [
       "DatetimeIndex(['2018-05-01', '2018-05-02', '2018-05-03', '2018-05-04',\n",
       "               '2018-05-05', '2018-05-06', '2018-05-07', '2018-05-08',\n",
       "               '2018-05-09', '2018-05-10', '2018-05-11', '2018-05-12',\n",
       "               '2018-05-13', '2018-05-14', '2018-05-15', '2018-05-16',\n",
       "               '2018-05-17', '2018-05-18', '2018-05-19', '2018-05-20',\n",
       "               '2018-05-21', '2018-05-22', '2018-05-23', '2018-05-24',\n",
       "               '2018-05-25', '2018-05-26', '2018-05-27', '2018-05-28',\n",
       "               '2018-05-29', '2018-05-30', '2018-05-31', '2018-06-01',\n",
       "               '2018-06-02', '2018-06-03', '2018-06-04', '2018-06-05',\n",
       "               '2018-06-06', '2018-06-07', '2018-06-08', '2018-06-09',\n",
       "               '2018-06-10', '2018-06-11', '2018-06-12', '2018-06-13',\n",
       "               '2018-06-14', '2018-06-15', '2018-06-16', '2018-06-17',\n",
       "               '2018-06-18', '2018-06-19', '2018-06-20', '2018-06-21',\n",
       "               '2018-06-22', '2018-06-23', '2018-06-24', '2018-06-25',\n",
       "               '2018-06-26', '2018-06-27', '2018-06-28', '2018-06-29',\n",
       "               '2018-06-30', '2018-07-01', '2018-07-02', '2018-07-03'],\n",
       "              dtype='datetime64[ns]', freq='D')"
      ]
     },
     "execution_count": 38,
     "metadata": {},
     "output_type": "execute_result"
    }
   ],
   "source": [
    "pd.date_range('2018 May 1st', '2018 Jul 3', freq = 'D')"
   ]
  },
  {
   "cell_type": "code",
   "execution_count": 39,
   "metadata": {},
   "outputs": [
    {
     "data": {
      "text/plain": [
       "DatetimeIndex(['2018-05-01', '2018-05-02', '2018-05-03', '2018-05-04',\n",
       "               '2018-05-07', '2018-05-08', '2018-05-09', '2018-05-10',\n",
       "               '2018-05-11', '2018-05-14', '2018-05-15', '2018-05-16',\n",
       "               '2018-05-17', '2018-05-18', '2018-05-21', '2018-05-22',\n",
       "               '2018-05-23', '2018-05-24', '2018-05-25', '2018-05-28',\n",
       "               '2018-05-29', '2018-05-30', '2018-05-31', '2018-06-01',\n",
       "               '2018-06-04', '2018-06-05', '2018-06-06', '2018-06-07',\n",
       "               '2018-06-08', '2018-06-11', '2018-06-12', '2018-06-13',\n",
       "               '2018-06-14', '2018-06-15', '2018-06-18', '2018-06-19',\n",
       "               '2018-06-20', '2018-06-21', '2018-06-22', '2018-06-25',\n",
       "               '2018-06-26', '2018-06-27', '2018-06-28', '2018-06-29',\n",
       "               '2018-07-02', '2018-07-03'],\n",
       "              dtype='datetime64[ns]', freq='B')"
      ]
     },
     "execution_count": 39,
     "metadata": {},
     "output_type": "execute_result"
    }
   ],
   "source": [
    "pd.date_range('2018 May 1st', '2018 Jul 3', freq = 'B')"
   ]
  },
  {
   "cell_type": "markdown",
   "metadata": {},
   "source": [
    "### `timedelta`s and Date Offsets\n",
    "\n",
    "Pandas handles frequencies as \"Date Offset\". You'll generally use aliases for the `freq` parameter (as we saw above), but you can also create the objects directly. These Date Offset objects resemble Python builtin `datetime.timedelta` objects:"
   ]
  },
  {
   "cell_type": "code",
   "execution_count": 40,
   "metadata": {},
   "outputs": [],
   "source": [
    "from pandas.tseries.offsets import Hour, Minute\n",
    "from datetime import timedelta"
   ]
  },
  {
   "cell_type": "code",
   "execution_count": 41,
   "metadata": {},
   "outputs": [
    {
     "data": {
      "text/plain": [
       "Timestamp('2018-01-01 03:00:00')"
      ]
     },
     "execution_count": 41,
     "metadata": {},
     "output_type": "execute_result"
    }
   ],
   "source": [
    "pd.Timestamp('2018-01-01') + timedelta(hours=3)"
   ]
  },
  {
   "cell_type": "code",
   "execution_count": 42,
   "metadata": {
    "scrolled": true
   },
   "outputs": [
    {
     "data": {
      "text/plain": [
       "Timestamp('2018-01-01 03:00:00')"
      ]
     },
     "execution_count": 42,
     "metadata": {},
     "output_type": "execute_result"
    }
   ],
   "source": [
    "pd.Timestamp('2018-01-01') + Hour(3)"
   ]
  },
  {
   "cell_type": "code",
   "execution_count": 43,
   "metadata": {},
   "outputs": [
    {
     "data": {
      "text/plain": [
       "datetime.datetime(2018, 1, 1, 3, 0)"
      ]
     },
     "execution_count": 43,
     "metadata": {},
     "output_type": "execute_result"
    }
   ],
   "source": [
    "datetime(2018, 1, 1) + timedelta(hours=3)"
   ]
  },
  {
   "cell_type": "code",
   "execution_count": 44,
   "metadata": {
    "scrolled": true
   },
   "outputs": [
    {
     "data": {
      "text/plain": [
       "Timestamp('2018-01-01 03:00:00')"
      ]
     },
     "execution_count": 44,
     "metadata": {},
     "output_type": "execute_result"
    }
   ],
   "source": [
    "datetime(2018, 1, 1) + Hour(3)"
   ]
  },
  {
   "cell_type": "code",
   "execution_count": 45,
   "metadata": {},
   "outputs": [
    {
     "data": {
      "text/plain": [
       "Timestamp('2018-01-01 03:05:00')"
      ]
     },
     "execution_count": 45,
     "metadata": {},
     "output_type": "execute_result"
    }
   ],
   "source": [
    "pd.Timestamp('2018-01-01') + Hour(3) + (5 * Minute())"
   ]
  },
  {
   "cell_type": "code",
   "execution_count": 46,
   "metadata": {},
   "outputs": [
    {
     "data": {
      "text/plain": [
       "Timestamp('2018-01-01 03:05:00')"
      ]
     },
     "execution_count": 46,
     "metadata": {},
     "output_type": "execute_result"
    }
   ],
   "source": [
    "pd.Timestamp('2018-01-01') + Hour(3) + Minute(5)"
   ]
  },
  {
   "cell_type": "markdown",
   "metadata": {},
   "source": [
    "### More advanced Date Frequencies\n",
    "\n",
    "Pandas can handle more complex offsets like Business days, holidays, etc. Another interesting example is when you handle \"week of month\" periods. For example, you have data that corresponds with the 3rd Saturday of every month. For that, you'll use the `WOM` freq alias:"
   ]
  },
  {
   "cell_type": "markdown",
   "metadata": {},
   "source": [
    "<img src=\"img/calendar_2018.png\" width=600></img>"
   ]
  },
  {
   "cell_type": "code",
   "execution_count": 47,
   "metadata": {
    "scrolled": false
   },
   "outputs": [
    {
     "data": {
      "text/plain": [
       "DatetimeIndex(['2018-01-20', '2018-02-17', '2018-03-17', '2018-04-21',\n",
       "               '2018-05-19', '2018-06-16', '2018-07-21', '2018-08-18',\n",
       "               '2018-09-15', '2018-10-20', '2018-11-17', '2018-12-15'],\n",
       "              dtype='datetime64[ns]', freq='WOM-3SAT')"
      ]
     },
     "execution_count": 47,
     "metadata": {},
     "output_type": "execute_result"
    }
   ],
   "source": [
    "pd.date_range(start='2018-01-01', periods=12, freq='WOM-3SAT')"
   ]
  }
 ],
 "metadata": {
  "kernelspec": {
   "display_name": "Python 3",
   "language": "python",
   "name": "python3"
  },
  "language_info": {
   "codemirror_mode": {
    "name": "ipython",
    "version": 3
   },
   "file_extension": ".py",
   "mimetype": "text/x-python",
   "name": "python",
   "nbconvert_exporter": "python",
   "pygments_lexer": "ipython3",
   "version": "3.6.8"
  }
 },
 "nbformat": 4,
 "nbformat_minor": 2
}
